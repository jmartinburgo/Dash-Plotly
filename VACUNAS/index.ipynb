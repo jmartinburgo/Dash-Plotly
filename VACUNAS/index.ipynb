{
 "cells": [
  {
   "cell_type": "code",
   "execution_count": 2,
   "metadata": {},
   "outputs": [
    {
     "name": "stderr",
     "output_type": "stream",
     "text": [
      "C:\\Users\\ACER\\AppData\\Local\\Temp\\ipykernel_21088\\4242176747.py:2: UserWarning: \n",
      "The dash_core_components package is deprecated. Please replace\n",
      "`import dash_core_components as dcc` with `from dash import dcc`\n",
      "  import dash_core_components as dcc\n",
      "C:\\Users\\ACER\\AppData\\Local\\Temp\\ipykernel_21088\\4242176747.py:3: UserWarning: \n",
      "The dash_html_components package is deprecated. Please replace\n",
      "`import dash_html_components as html` with `from dash import html`\n",
      "  import dash_html_components as html\n"
     ]
    }
   ],
   "source": [
    "import dash\n",
    "import dash_core_components as dcc\n",
    "import dash_html_components as html\n",
    "import plotly.express as px\n",
    "import pandas as pd\n",
    "from dash.dependencies import Input, Output"
   ]
  },
  {
   "cell_type": "code",
   "execution_count": 3,
   "metadata": {},
   "outputs": [
    {
     "data": {
      "text/html": [
       "<div>\n",
       "<style scoped>\n",
       "    .dataframe tbody tr th:only-of-type {\n",
       "        vertical-align: middle;\n",
       "    }\n",
       "\n",
       "    .dataframe tbody tr th {\n",
       "        vertical-align: top;\n",
       "    }\n",
       "\n",
       "    .dataframe thead th {\n",
       "        text-align: right;\n",
       "    }\n",
       "</style>\n",
       "<table border=\"1\" class=\"dataframe\">\n",
       "  <thead>\n",
       "    <tr style=\"text-align: right;\">\n",
       "      <th></th>\n",
       "      <th>jurisdiccion_codigo_indec</th>\n",
       "      <th>jurisdiccion_nombre</th>\n",
       "      <th>vacuna_nombre</th>\n",
       "      <th>primera_dosis_cantidad</th>\n",
       "      <th>segunda_dosis_cantidad</th>\n",
       "    </tr>\n",
       "  </thead>\n",
       "  <tbody>\n",
       "    <tr>\n",
       "      <th>0</th>\n",
       "      <td>6</td>\n",
       "      <td>Buenos Aires</td>\n",
       "      <td>COVISHIELD ChAdOx1nCoV COVID 19</td>\n",
       "      <td>184215</td>\n",
       "      <td>0</td>\n",
       "    </tr>\n",
       "    <tr>\n",
       "      <th>1</th>\n",
       "      <td>6</td>\n",
       "      <td>Buenos Aires</td>\n",
       "      <td>Sinopharm Vacuna SARSCOV 2 inactivada</td>\n",
       "      <td>264832</td>\n",
       "      <td>0</td>\n",
       "    </tr>\n",
       "    <tr>\n",
       "      <th>2</th>\n",
       "      <td>6</td>\n",
       "      <td>Buenos Aires</td>\n",
       "      <td>Sputnik V COVID19 Instituto Gamaleya</td>\n",
       "      <td>311217</td>\n",
       "      <td>167146</td>\n",
       "    </tr>\n",
       "    <tr>\n",
       "      <th>3</th>\n",
       "      <td>2</td>\n",
       "      <td>CABA</td>\n",
       "      <td>COVISHIELD ChAdOx1nCoV COVID 19</td>\n",
       "      <td>54308</td>\n",
       "      <td>237</td>\n",
       "    </tr>\n",
       "    <tr>\n",
       "      <th>4</th>\n",
       "      <td>2</td>\n",
       "      <td>CABA</td>\n",
       "      <td>Sinopharm Vacuna SARSCOV 2 inactivada</td>\n",
       "      <td>24022</td>\n",
       "      <td>17</td>\n",
       "    </tr>\n",
       "  </tbody>\n",
       "</table>\n",
       "</div>"
      ],
      "text/plain": [
       "   jurisdiccion_codigo_indec jurisdiccion_nombre  \\\n",
       "0                          6        Buenos Aires   \n",
       "1                          6        Buenos Aires   \n",
       "2                          6        Buenos Aires   \n",
       "3                          2                CABA   \n",
       "4                          2                CABA   \n",
       "\n",
       "                           vacuna_nombre  primera_dosis_cantidad  \\\n",
       "0        COVISHIELD ChAdOx1nCoV COVID 19                  184215   \n",
       "1  Sinopharm Vacuna SARSCOV 2 inactivada                  264832   \n",
       "2   Sputnik V COVID19 Instituto Gamaleya                  311217   \n",
       "3        COVISHIELD ChAdOx1nCoV COVID 19                   54308   \n",
       "4  Sinopharm Vacuna SARSCOV 2 inactivada                   24022   \n",
       "\n",
       "   segunda_dosis_cantidad  \n",
       "0                       0  \n",
       "1                       0  \n",
       "2                  167146  \n",
       "3                     237  \n",
       "4                      17  "
      ]
     },
     "execution_count": 3,
     "metadata": {},
     "output_type": "execute_result"
    }
   ],
   "source": [
    "df=pd.read_csv('Covid19VacunasAgrupadas.csv')\n",
    "df.head()"
   ]
  },
  {
   "cell_type": "code",
   "execution_count": 4,
   "metadata": {},
   "outputs": [
    {
     "data": {
      "text/plain": [
       "{'COVISHIELD ChAdOx1nCoV COVID 19',\n",
       " 'Sinopharm Vacuna SARSCOV 2 inactivada',\n",
       " 'Sputnik V COVID19 Instituto Gamaleya'}"
      ]
     },
     "execution_count": 4,
     "metadata": {},
     "output_type": "execute_result"
    }
   ],
   "source": [
    "set(df['vacuna_nombre'])\n"
   ]
  },
  {
   "cell_type": "code",
   "execution_count": 7,
   "metadata": {},
   "outputs": [
    {
     "data": {
      "text/html": [
       "\n",
       "        <iframe\n",
       "            width=\"100%\"\n",
       "            height=\"650\"\n",
       "            src=\"http://127.0.0.1:8050/\"\n",
       "            frameborder=\"0\"\n",
       "            allowfullscreen\n",
       "            \n",
       "        ></iframe>\n",
       "        "
      ],
      "text/plain": [
       "<IPython.lib.display.IFrame at 0x205a1e72fd0>"
      ]
     },
     "metadata": {},
     "output_type": "display_data"
    }
   ],
   "source": [
    "app = dash.Dash(__name__)\n",
    "\n",
    "app.layout =html.Div([\n",
    "\n",
    "    html.Div([\n",
    "        html.H1('Vacunados por covid'),\n",
    "        html.Img(src='assets/vacuna.png')\n",
    "    ], className='banner'),\n",
    "    html.Div([\n",
    "        html.Div([\n",
    "            html.P('Selecciona la dosis',className='fix_label',style={'color':'black','margin top':'2px'}),\n",
    "            dcc.RadioItems(\n",
    "                id='dosis_radioitems',\n",
    "                labelStyle={'display':'inline-block'},\n",
    "                options=[\n",
    "                    {'label':'Primera Dosis','value':'primera_dosis_cantidad'},\n",
    "                    {'label':'Segunda Dosis','value':'segunda_dosis_cantidad'}\n",
    "                ],value=\"primera_dosis_cantidad\",\n",
    "                style={'text-aling':'center','color':'black'},className='dcc_compon'\n",
    "            )\n",
    "        ],className='create_container2 five columns',style={'margin-botton':'2px'})\n",
    "    ],className='row flex-display'),\n",
    "\n",
    "    html.Div([\n",
    "        html.Div([\n",
    "            dcc.Graph(\n",
    "                id='bar_graph',\n",
    "                figure={}\n",
    "                )\n",
    "        ],className='create_container2 eight columns'),\n",
    "\n",
    "        html.Div([\n",
    "            dcc.Graph(\n",
    "                id='pie_graph',\n",
    "                figure={}\n",
    "                )\n",
    "        ],className='create_container2 eight columns')\n",
    "    ]),\n",
    "\n",
    "\n",
    "],id='main_container',style={'display':'flex','flex-direction':'column'})\n",
    "\n",
    "@app.callback(\n",
    "    Output('bar_graph',component_property='figure'),\n",
    "    [Input('dosis_radioitems',component_property='value')]\n",
    ")\n",
    "\n",
    "def updated_grap(value):\n",
    "    if value == 'primera_dosis_cantidad':\n",
    "        fig= px.bar(\n",
    "            data_frame=df,\n",
    "            x='jurisdiccion_nombre',\n",
    "            y='primera_dosis_cantidad'            \n",
    "            )\n",
    "    else:\n",
    "        fig= px.bar(\n",
    "            data_frame=df,\n",
    "            x='jurisdiccion_nombre',\n",
    "            y='segunda_dosis_cantidad'            \n",
    "            )\n",
    "    return fig\n",
    "\n",
    "@app.callback(\n",
    "    Output('pie_graph',component_property='figure'),\n",
    "    [Input('dosis_radioitems',component_property='value')]\n",
    ")\n",
    "\n",
    "def updated_grap_pie(value):\n",
    "    if value == 'primera_dosis_cantidad':\n",
    "        fig2= px.pie(\n",
    "            data_frame=df,\n",
    "            names='jurisdiccion_nombre',\n",
    "            values='primera_dosis_cantidad'            \n",
    "            )\n",
    "    else:\n",
    "        fig2= px.bar(\n",
    "            data_frame=df,\n",
    "            names='jurisdiccion_nombre',\n",
    "            values='segunda_dosis_cantidad'            \n",
    "            )\n",
    "    return fig2\n",
    "\n",
    "\n",
    "\n",
    "if __name__ == ('__main__'):\n",
    "    app.run_server(debug=True)"
   ]
  },
  {
   "cell_type": "code",
   "execution_count": null,
   "metadata": {},
   "outputs": [],
   "source": []
  }
 ],
 "metadata": {
  "kernelspec": {
   "display_name": "Python 3",
   "language": "python",
   "name": "python3"
  },
  "language_info": {
   "codemirror_mode": {
    "name": "ipython",
    "version": 3
   },
   "file_extension": ".py",
   "mimetype": "text/x-python",
   "name": "python",
   "nbconvert_exporter": "python",
   "pygments_lexer": "ipython3",
   "version": "3.11.4"
  },
  "orig_nbformat": 4
 },
 "nbformat": 4,
 "nbformat_minor": 2
}
